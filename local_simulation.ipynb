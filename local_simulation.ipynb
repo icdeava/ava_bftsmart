{
 "cells": [
  {
   "cell_type": "code",
   "execution_count": null,
   "id": "e494524a",
   "metadata": {},
   "outputs": [],
   "source": [
    "import os\n",
    "from joblib import Parallel, delayed\n",
    "import time\n",
    "import numpy as np\n",
    "from collections import defaultdict\n"
   ]
  },
  {
   "cell_type": "code",
   "execution_count": null,
   "id": "8208ee8a",
   "metadata": {},
   "outputs": [],
   "source": [
    "sudo_password = ''"
   ]
  },
  {
   "cell_type": "code",
   "execution_count": null,
   "id": "4937b574",
   "metadata": {},
   "outputs": [],
   "source": [
    "with open('all_external_ips') as f:\n",
    "    lines = f.read().splitlines()\n",
    "\n",
    "\n",
    "lines = [x for x in lines if x!='None']\n",
    "lines\n",
    "\n",
    "for ip in lines:\n",
    "    if ip!='None':\n",
    "        current = (ip.split('.'))\n",
    "\n",
    "        print('ssh -i \"MAKWest.pem\" ubuntu@ec2-'+str(current[0])+'-'\\\n",
    "              +str(current[1])+'-'+str(current[2])+'-'+str(current[3])+'.us-west-1.compute.amazonaws.com')"
   ]
  },
  {
   "cell_type": "code",
   "execution_count": null,
   "id": "cdd2f92b",
   "metadata": {},
   "outputs": [],
   "source": [
    "nclusters = 0\n",
    "\n",
    "for folder in os.listdir('.'):\n",
    "    if 'config' in folder and folder!='config':\n",
    "        nclusters = nclusters + 1\n",
    "        \n",
    "        \n",
    "print(nclusters)\n",
    "\n",
    "\n",
    "total_count = 8\n",
    "nclients = 2\n",
    "\n",
    "\n",
    "nreplicas = int(total_count/nclusters)\n",
    "nodeIps = lines[:nclusters* nreplicas]\n",
    "\n",
    "\n",
    "clientIps = lines[-nclients:]\n",
    "\n"
   ]
  },
  {
   "cell_type": "code",
   "execution_count": null,
   "id": "6eaca464",
   "metadata": {},
   "outputs": [],
   "source": [
    "    \n",
    "def compile_job(i):\n",
    "    ip = lines[i]\n",
    "    if ip!='None':\n",
    "        current = (ip.split('.'))\n",
    "        command = f'echo {sudo_password} | sudo -S ./gradlew installDist'\n",
    "        \n",
    "        \n",
    "        os.system(command)\n",
    "\n",
    "        \n",
    "        \n",
    "def clean_job(i):\n",
    "    ip = lines[i]\n",
    "    \n",
    "\n",
    "    if ip!='None':\n",
    "        current = (ip.split('.'))\n",
    "        command = f'echo {sudo_password} | sudo -S rm ../dump/nohup*.out; echo 3108 | sudo -S rm config*/currentView;'\n",
    "        \n",
    "        \n",
    "        os.system(command)\n",
    "        \n",
    "        \n",
    "\n",
    "        \n",
    "def run_server_node(i):\n",
    "    ip = lines[i]\n",
    "    if ip!='None' and( ip in nodeIps):\n",
    "        \n",
    "        current = (ip.split('.'))\n",
    "        command = 'nohup ./runscripts/startReplicaYCSB.sh '+str(i)+' >../dump/nohup_s'+str(i)+'.out 2>&1 & echo $! > ../dump/jobID_s'+str(i)+'.txt'\n",
    "        \n",
    "        print(command)\n",
    "        os.system(command)\n",
    "        \n",
    "        \n",
    "\n",
    "\n",
    "\n",
    "\n",
    "def run_basic_client(i):\n",
    "    cmd_arg = ''\n",
    "    \n",
    "    ip = lines[i]\n",
    "    if ip!='None' and ip in clientIps:\n",
    "        current = (ip.split('.'))\n",
    "        for iter__ in range(len(clientIps)):\n",
    "            if ip==clientIps[iter__]:\n",
    "                cmd_arg = iter__\n",
    "                \n",
    "        current = (ip.split('.'))\n",
    "        command = 'nohup ./runscripts/ycsbClient.sh '+str(i-len(nodeIps))+' >../dump/nohup_c'+str(i)+'.out 2>&1 &'\n",
    "\n",
    "        \n",
    "        os.system(command)\n",
    "\n",
    "\n",
    "def kill_java(i):\n",
    "    ip = lines[i]\n",
    "    \n",
    "    if ip!='None':\n",
    "        current = (ip.split('.'))\n",
    "        command = f'echo {sudo_password} | sudo -S killall java;echo 3108: sudo -S killall nohup'\n",
    "        \n",
    "        \n",
    "        os.system(command)\n",
    "        \n",
    "        \n",
    "        \n",
    "def kill_clients(i):\n",
    "    ip = lines[i]\n",
    "    if ip!='None' and ip in clientIps:\n",
    "        current = (ip.split('.'))\n",
    "        command = 'killall java;  killall nohup\"'\n",
    "        \n",
    "        \n",
    "        os.system(command)\n",
    "\n",
    "\n"
   ]
  },
  {
   "cell_type": "code",
   "execution_count": null,
   "id": "b3e8af22",
   "metadata": {},
   "outputs": [],
   "source": [
    "len(lines)"
   ]
  },
  {
   "cell_type": "code",
   "execution_count": null,
   "id": "255a3e30",
   "metadata": {},
   "outputs": [],
   "source": [
    "len(nodeIps), len(clientIps)"
   ]
  },
  {
   "cell_type": "code",
   "execution_count": null,
   "id": "822f5c03",
   "metadata": {
    "scrolled": true
   },
   "outputs": [],
   "source": [
    "for i in range(len(lines)):\n",
    "    kill_java(i)\n",
    "\n",
    "for i in range(len(lines)):\n",
    "    clean_job(i)\n",
    "    \n",
    "compile_job(1)\n",
    "\n"
   ]
  },
  {
   "cell_type": "code",
   "execution_count": null,
   "id": "61165bc7",
   "metadata": {},
   "outputs": [],
   "source": [
    "    \n",
    "for i in [0,1,2,3,4,5,6,7]:\n",
    "    print(i)\n",
    "    run_server_node(i)"
   ]
  },
  {
   "cell_type": "code",
   "execution_count": null,
   "id": "7f0293c0",
   "metadata": {
    "scrolled": true
   },
   "outputs": [],
   "source": [
    "time.sleep(10)\n",
    "# !tail ../dump/nohup_s0.out -n 50"
   ]
  },
  {
   "cell_type": "code",
   "execution_count": null,
   "id": "41900dd9",
   "metadata": {},
   "outputs": [],
   "source": [
    "\n",
    "\n",
    "# for i in range(len(lines)):\n",
    "#     kill_java(i)"
   ]
  },
  {
   "cell_type": "code",
   "execution_count": null,
   "id": "4c1e4ec0",
   "metadata": {},
   "outputs": [],
   "source": [
    "len(nodeIps)+len(clientIps)\n"
   ]
  },
  {
   "cell_type": "markdown",
   "id": "e44448aa",
   "metadata": {},
   "source": [
    "## Run basic client"
   ]
  },
  {
   "cell_type": "code",
   "execution_count": null,
   "id": "fc3fe25b",
   "metadata": {},
   "outputs": [],
   "source": [
    "for i in range(len(nodeIps),len(nodeIps)+len(clientIps)):\n",
    "    run_basic_client(i)"
   ]
  },
  {
   "cell_type": "code",
   "execution_count": null,
   "id": "b35f54a3",
   "metadata": {},
   "outputs": [],
   "source": [
    "time.sleep(80)"
   ]
  },
  {
   "cell_type": "code",
   "execution_count": null,
   "id": "929ae743",
   "metadata": {},
   "outputs": [],
   "source": [
    "for i in range(len(lines)):\n",
    "    kill_java(i)"
   ]
  },
  {
   "cell_type": "code",
   "execution_count": null,
   "id": "5456aed4",
   "metadata": {},
   "outputs": [],
   "source": [
    "\n",
    "def getTimesThputs(file):\n",
    "    f = open(file, \"r\")\n",
    "    data = f.readlines() \n",
    "    times = []\n",
    "    thputs = []\n",
    "    latencies = []\n",
    "    for line in data:\n",
    "#         print(line)\n",
    "        if not line.startswith('--') and 'current ops/sec; ' in line and 'AverageLatency(us)=' in line and not 'JVM' in line:\n",
    "\n",
    "#         print(line)\n",
    "            times.append(line.split('sec:')[0].strip())\n",
    "            thputs.append(line.split(';')[1].split('current')[0].strip())\n",
    "\n",
    "\n",
    "            read_lat = '0'\n",
    "            write_lat = '0'\n",
    "\n",
    "            if ('READ AverageLatency' in line):\n",
    "\n",
    "                print(line)\n",
    "\n",
    "                read_lat = line.split('READ AverageLatency(us)=')[1].split(']')[0].strip()\n",
    "\n",
    "\n",
    "            if ('UPDATE AverageLatency' in line):                    \n",
    "\n",
    "                write_lat = line.split('UPDATE AverageLatency(us)=')[1].split(']')[0].strip()\n",
    "\n",
    "\n",
    "            if (('READ AverageLatency' not in line) and ('UPDATE AverageLatency' not in line)):\n",
    "                latencies.append(line.split('=')[1].split(']')[0].strip())\n",
    "            else:\n",
    "                read_frac = 0\n",
    "                write_frac = 0\n",
    "\n",
    "                if float(read_lat) > 0:\n",
    "                    read_frac = 0.85\n",
    "\n",
    "                if float(write_lat) > 0:\n",
    "                    write_frac = 0.15\n",
    "\n",
    "                lat = str( (write_frac * float(write_lat) +\\\n",
    "                            read_frac*float(read_lat))/(write_frac+read_frac)\\\n",
    "                         )\n",
    "                latencies.append(lat)\n",
    "\n",
    "            print(line,latencies[-1],thputs[-1],times[-1])\n",
    "\n",
    "    return np.array(times).astype(float), np.array(thputs).astype(float), np.array(latencies).astype(float)/1e6  \n"
   ]
  },
  {
   "cell_type": "code",
   "execution_count": null,
   "id": "f11bb247",
   "metadata": {},
   "outputs": [],
   "source": [
    "times ,thputs, lats = getTimesThputs('../dump/nohup_c'+str(len(nodeIps))+'.out')\n",
    "times2 ,thputs2, lats = getTimesThputs('../dump/nohup_c'+str(len(nodeIps)+1)+'.out')\n",
    "\n",
    "\n"
   ]
  },
  {
   "cell_type": "code",
   "execution_count": null,
   "id": "8b5e2f0f",
   "metadata": {},
   "outputs": [],
   "source": [
    "\n",
    "def combine_throughputs(times1, thputs1, times2, thputs2):\n",
    "    thput_dict = defaultdict(int)\n",
    "\n",
    "    # Populate the dictionary with the first set\n",
    "    for t, th in zip(times1, thputs1):\n",
    "        thput_dict[t] += th\n",
    "\n",
    "    # Populate the dictionary with the second set\n",
    "    for t, th in zip(times2, thputs2):\n",
    "        thput_dict[t] += th\n",
    "\n",
    "    # Sort the keys (times) and extract corresponding values\n",
    "    combined_times = sorted(thput_dict.keys())\n",
    "    combined_thputs = [thput_dict[t] for t in combined_times]\n",
    "\n",
    "    return combined_times, combined_thputs"
   ]
  },
  {
   "cell_type": "code",
   "execution_count": null,
   "id": "c49e166c",
   "metadata": {},
   "outputs": [],
   "source": [
    "times_new, thputs_new = combine_throughputs(times, thputs, times2, thputs2)\n",
    "\n",
    "    \n",
    "\n",
    "times_new, thputs_new"
   ]
  },
  {
   "cell_type": "code",
   "execution_count": null,
   "id": "8f813756",
   "metadata": {},
   "outputs": [],
   "source": [
    "def fill_missing_times(times, throughputs):\n",
    "    # Create a full range from min to max time\n",
    "    full_times = list(range(min(times), max(times) + 1))\n",
    "    \n",
    "    # Create a dictionary of existing times and throughputs\n",
    "    throughput_dict = dict(zip(times, throughputs))\n",
    "    \n",
    "    # Fill missing times with zero throughput\n",
    "    filled_throughputs = [throughput_dict.get(t, 0) for t in full_times]\n",
    "    \n",
    "    return full_times, filled_throughputs"
   ]
  },
  {
   "cell_type": "code",
   "execution_count": null,
   "id": "3a627c92",
   "metadata": {},
   "outputs": [],
   "source": [
    "times_new, thputs_new = fill_missing_times(np.array(times_new).astype(int), thputs_new)"
   ]
  },
  {
   "cell_type": "code",
   "execution_count": null,
   "id": "2e52658b",
   "metadata": {},
   "outputs": [],
   "source": [
    "import pylab as pl\n",
    "\n",
    "pl.figure(figsize = (12,8))\n",
    "pl.plot(times_new[:], thputs_new[:], '-o', label='ava-bftsmart')\n",
    "pl.xlabel('Time (s)')\n",
    "pl.ylabel('Throughput (Txn/s)')\n",
    "pl.legend()\n",
    "pl.show()\n",
    "pl.clf()\n"
   ]
  },
  {
   "cell_type": "code",
   "execution_count": null,
   "id": "e7f00b09",
   "metadata": {},
   "outputs": [],
   "source": []
  }
 ],
 "metadata": {
  "kernelspec": {
   "display_name": "Python 3 (ipykernel)",
   "language": "python",
   "name": "python3"
  },
  "language_info": {
   "codemirror_mode": {
    "name": "ipython",
    "version": 3
   },
   "file_extension": ".py",
   "mimetype": "text/x-python",
   "name": "python",
   "nbconvert_exporter": "python",
   "pygments_lexer": "ipython3",
   "version": "3.11.5"
  }
 },
 "nbformat": 4,
 "nbformat_minor": 5
}
